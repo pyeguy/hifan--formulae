{
 "cells": [
  {
   "cell_type": "code",
   "execution_count": 1,
   "metadata": {
    "collapsed": true
   },
   "outputs": [],
   "source": [
    "import formulae as F\n",
    "from formulae.utils import *\n"
   ]
  },
  {
   "cell_type": "code",
   "execution_count": 2,
   "metadata": {
    "collapsed": true
   },
   "outputs": [],
   "source": [
    "masses = [rdMolDescriptors.CalcExactMolWt(m) for m in sm]\n",
    "formulae = [rdMolDescriptors.CalcMolFormula(m) for m in sm]\n",
    "mz = masses[3]\n",
    "target_formula = formulae[3]"
   ]
  },
  {
   "cell_type": "code",
   "execution_count": 3,
   "metadata": {},
   "outputs": [],
   "source": [
    "\n",
    "def gen_formulae(mz,ppm=5,ratios=None):\n",
    "\n",
    "\n",
    "    maxes = dict(get_elemaxs(mz))\n",
    "    maxl = [maxes[e] for e in elel]\n",
    "    # error = mz *(ppm *1E-6)\n",
    "    # mlow, mhigh = mz-error, mz+error\n",
    "    n = len(elel)\n",
    "    formula = [0]*n\n",
    "    stack = [formula]\n",
    "    ball = 0\n",
    "    idx = 0\n",
    "    while stack:\n",
    "        if idx <= ball:\n",
    "                pass\n",
    "        last_form = stack.pop()\n",
    "        new_form = last_form [:]\n",
    "        if new_form[idx] == maxl[idx]:\n",
    "            idx +=1\n",
    "            \n",
    "        new_form[idx] +=1\n",
    "        \n",
    "        \n",
    "        \n",
    "        \n",
    "            \n",
    "def fd2f(fd):\n",
    "    tj = []\n",
    "    for e in elel:\n",
    "        tj.extend((e,str(fd[e])))\n",
    "    return ''.join(tj)\n",
    "                \n",
    "            "
   ]
  },
  {
   "cell_type": "code",
   "execution_count": 4,
   "metadata": {},
   "outputs": [],
   "source": [
    "# fgen = F.nasty(mz)\n",
    "# f100 = [fd2f(next(fgen)) for _ in range(100)]\n",
    "# f100"
   ]
  },
  {
   "cell_type": "code",
   "execution_count": 13,
   "metadata": {},
   "outputs": [
    {
     "data": {
      "text/plain": [
       "{'Br': 0,\n",
       " 'C': 0,\n",
       " 'Cl': 0,\n",
       " 'F': 0,\n",
       " 'H': 0,\n",
       " 'N': 0,\n",
       " 'O': 0,\n",
       " 'P': 0,\n",
       " 'S': 0,\n",
       " 'Si': 0}"
      ]
     },
     "execution_count": 13,
     "metadata": {},
     "output_type": "execute_result"
    }
   ],
   "source": [
    "fgen = F.nasty(mz,50)\n",
    "next(fgen)"
   ]
  },
  {
   "cell_type": "code",
   "execution_count": 17,
   "metadata": {},
   "outputs": [
    {
     "ename": "StopIteration",
     "evalue": "",
     "output_type": "error",
     "traceback": [
      "\u001b[1;31m---------------------------------------------------------------------------\u001b[0m",
      "\u001b[1;31mStopIteration\u001b[0m                             Traceback (most recent call last)",
      "\u001b[1;32m<ipython-input-17-42f1e42b1707>\u001b[0m in \u001b[0;36m<module>\u001b[1;34m()\u001b[0m\n\u001b[1;32m----> 1\u001b[1;33m \u001b[0mnext\u001b[0m\u001b[1;33m(\u001b[0m\u001b[0mfgen\u001b[0m\u001b[1;33m)\u001b[0m\u001b[1;33m\u001b[0m\u001b[0m\n\u001b[0m",
      "\u001b[1;31mStopIteration\u001b[0m: "
     ]
    }
   ],
   "source": [
    "next(fgen)"
   ]
  },
  {
   "cell_type": "code",
   "execution_count": null,
   "metadata": {
    "collapsed": true
   },
   "outputs": [],
   "source": []
  }
 ],
 "metadata": {
  "anaconda-cloud": {},
  "kernelspec": {
   "display_name": "Python [conda root]",
   "language": "python",
   "name": "conda-root-py"
  },
  "language_info": {
   "codemirror_mode": {
    "name": "ipython",
    "version": 3
   },
   "file_extension": ".py",
   "mimetype": "text/x-python",
   "name": "python",
   "nbconvert_exporter": "python",
   "pygments_lexer": "ipython3",
   "version": "3.6.2"
  }
 },
 "nbformat": 4,
 "nbformat_minor": 2
}
